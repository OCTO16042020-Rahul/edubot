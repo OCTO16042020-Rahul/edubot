{
 "cells": [
  {
   "cell_type": "code",
   "execution_count": 1,
   "metadata": {},
   "outputs": [
    {
     "name": "stderr",
     "output_type": "stream",
     "text": [
      "WARNING: Logging before flag parsing goes to stderr.\n",
      "W0222 09:15:10.758045   760 deprecation_wrapper.py:119] From C:\\Users\\ningesh\\Anaconda3\\envs\\project\\lib\\site-packages\\tflearn\\helpers\\summarizer.py:9: The name tf.summary.merge is deprecated. Please use tf.compat.v1.summary.merge instead.\n",
      "\n",
      "W0222 09:15:10.758045   760 deprecation_wrapper.py:119] From C:\\Users\\ningesh\\Anaconda3\\envs\\project\\lib\\site-packages\\tflearn\\helpers\\trainer.py:25: The name tf.summary.FileWriter is deprecated. Please use tf.compat.v1.summary.FileWriter instead.\n",
      "\n"
     ]
    },
    {
     "name": "stdout",
     "output_type": "stream",
     "text": [
      "curses is not supported on this machine (please install/reinstall curses for an optimal experience)\n"
     ]
    },
    {
     "name": "stderr",
     "output_type": "stream",
     "text": [
      "W0222 09:15:10.920533   760 deprecation_wrapper.py:119] From C:\\Users\\ningesh\\Anaconda3\\envs\\project\\lib\\site-packages\\tflearn\\collections.py:13: The name tf.GraphKeys is deprecated. Please use tf.compat.v1.GraphKeys instead.\n",
      "\n",
      "W0222 09:15:11.007161   760 deprecation_wrapper.py:119] From C:\\Users\\ningesh\\Anaconda3\\envs\\project\\lib\\site-packages\\tflearn\\config.py:123: The name tf.get_collection is deprecated. Please use tf.compat.v1.get_collection instead.\n",
      "\n",
      "W0222 09:15:11.301316   760 deprecation_wrapper.py:119] From C:\\Users\\ningesh\\Anaconda3\\envs\\project\\lib\\site-packages\\tflearn\\config.py:129: The name tf.add_to_collection is deprecated. Please use tf.compat.v1.add_to_collection instead.\n",
      "\n",
      "W0222 09:15:11.303324   760 deprecation_wrapper.py:119] From C:\\Users\\ningesh\\Anaconda3\\envs\\project\\lib\\site-packages\\tflearn\\config.py:131: The name tf.assign is deprecated. Please use tf.compat.v1.assign instead.\n",
      "\n"
     ]
    }
   ],
   "source": [
    "import nltk\n",
    "from nltk.stem.lancaster import LancasterStemmer\n",
    "stemmer = LancasterStemmer()\n",
    "\n",
    "import numpy\n",
    "import tflearn\n",
    "import tensorflow\n",
    "import random\n",
    "import json\n",
    "\n",
    "\n",
    "#with open(\"qasystem.json\",encoding='utf8') as file:\n",
    "#    data = json.load(file)\n",
    "\n",
    "with open(\"qasystem.json\",encoding='utf8') as file:\n",
    "    data = json.load(file)\n",
    "\n",
    "\n",
    "words = []\n",
    "labels = []\n",
    "docs_x = []\n",
    "docs_y = []\n",
    "\n",
    "for intent in data[\"intents\"]:\n",
    "    for pattern in intent[\"patterns\"]:\n",
    "        wrds = nltk.word_tokenize(pattern)\n",
    "        words.extend(wrds)\n",
    "        docs_x.append(wrds)\n",
    "        docs_y.append(intent[\"tag\"])\n",
    "\n",
    "    if intent[\"tag\"] not in labels:\n",
    "        labels.append(intent[\"tag\"])\n",
    "\n",
    "words = [stemmer.stem(w.lower()) for w in words if w != \"?\"]\n",
    "words = sorted(list(set(words)))\n",
    "\n",
    "labels = sorted(labels)\n",
    "\n",
    "training = []\n",
    "output = []\n",
    "\n",
    "out_empty = [0 for _ in range(len(labels))]\n",
    "\n",
    "for x, doc in enumerate(docs_x):\n",
    "    bag = []\n",
    "\n",
    "    wrds = [stemmer.stem(w.lower()) for w in doc]\n",
    "\n",
    "    for w in words:\n",
    "        if w in wrds:\n",
    "            bag.append(1)\n",
    "        else:\n",
    "            bag.append(0)\n",
    "\n",
    "    output_row = out_empty[:]\n",
    "    output_row[labels.index(docs_y[x])] = 1\n",
    "\n",
    "    training.append(bag)\n",
    "    output.append(output_row)\n",
    "\n",
    "\n",
    "training = numpy.array(training)\n",
    "output = numpy.array(output)"
   ]
  },
  {
   "cell_type": "code",
   "execution_count": null,
   "metadata": {},
   "outputs": [],
   "source": [
    "\n",
    "\n"
   ]
  },
  {
   "cell_type": "code",
   "execution_count": 2,
   "metadata": {},
   "outputs": [
    {
     "name": "stderr",
     "output_type": "stream",
     "text": [
      "W0222 09:19:23.174049   760 deprecation_wrapper.py:119] From C:\\Users\\ningesh\\Anaconda3\\envs\\project\\lib\\site-packages\\tflearn\\layers\\core.py:81: The name tf.placeholder is deprecated. Please use tf.compat.v1.placeholder instead.\n",
      "\n",
      "W0222 09:19:23.178047   760 deprecation.py:506] From C:\\Users\\ningesh\\Anaconda3\\envs\\project\\lib\\site-packages\\tflearn\\initializations.py:174: calling TruncatedNormal.__init__ (from tensorflow.python.ops.init_ops) with dtype is deprecated and will be removed in a future version.\n",
      "Instructions for updating:\n",
      "Call initializer instance with the dtype argument instead of passing it to the constructor\n",
      "W0222 09:19:23.403135   760 deprecation_wrapper.py:119] From C:\\Users\\ningesh\\Anaconda3\\envs\\project\\lib\\site-packages\\tflearn\\optimizers.py:238: The name tf.train.AdamOptimizer is deprecated. Please use tf.compat.v1.train.AdamOptimizer instead.\n",
      "\n",
      "W0222 09:19:23.449891   760 deprecation.py:506] From C:\\Users\\ningesh\\Anaconda3\\envs\\project\\lib\\site-packages\\tflearn\\objectives.py:66: calling reduce_sum_v1 (from tensorflow.python.ops.math_ops) with keep_dims is deprecated and will be removed in a future version.\n",
      "Instructions for updating:\n",
      "keep_dims is deprecated, use keepdims instead\n",
      "W0222 09:19:23.592260   760 deprecation_wrapper.py:119] From C:\\Users\\ningesh\\Anaconda3\\envs\\project\\lib\\site-packages\\tflearn\\summaries.py:46: The name tf.summary.scalar is deprecated. Please use tf.compat.v1.summary.scalar instead.\n",
      "\n",
      "W0222 09:19:23.793441   760 deprecation.py:323] From C:\\Users\\ningesh\\Anaconda3\\envs\\project\\lib\\site-packages\\tensorflow\\python\\ops\\math_grad.py:1250: add_dispatch_support.<locals>.wrapper (from tensorflow.python.ops.array_ops) is deprecated and will be removed in a future version.\n",
      "Instructions for updating:\n",
      "Use tf.where in 2.0, which has the same broadcast rule as np.where\n",
      "W0222 09:19:24.067500   760 deprecation_wrapper.py:119] From C:\\Users\\ningesh\\Anaconda3\\envs\\project\\lib\\site-packages\\tflearn\\helpers\\trainer.py:134: The name tf.train.Saver is deprecated. Please use tf.compat.v1.train.Saver instead.\n",
      "\n"
     ]
    }
   ],
   "source": [
    "tensorflow.reset_default_graph()\n",
    "\n",
    "net = tflearn.input_data(shape=[None, len(training[0])])\n",
    "net = tflearn.fully_connected(net, 8)\n",
    "net = tflearn.fully_connected(net, 8)\n",
    "net = tflearn.fully_connected(net, len(output[0]), activation=\"softmax\")\n",
    "net = tflearn.regression(net)\n",
    "\n",
    "model = tflearn.DNN(net)"
   ]
  },
  {
   "cell_type": "code",
   "execution_count": 3,
   "metadata": {},
   "outputs": [
    {
     "name": "stdout",
     "output_type": "stream",
     "text": [
      "Training Step: 3999  | total loss: \u001b[1m\u001b[32m0.36120\u001b[0m\u001b[0m | time: 0.005s\n",
      "| Adam | epoch: 1000 | loss: 0.36120 - acc: 0.9626 -- iter: 24/32\n",
      "Training Step: 4000  | total loss: \u001b[1m\u001b[32m0.33366\u001b[0m\u001b[0m | time: 0.007s\n",
      "| Adam | epoch: 1000 | loss: 0.33366 - acc: 0.9664 -- iter: 32/32\n",
      "--\n",
      "INFO:tensorflow:C:\\Users\\Studio Pc-1\\063 Automated Question Answering system\\flask-chatterbot-master\\model.tflearn is not in all_model_checkpoint_paths. Manually adding it.\n"
     ]
    }
   ],
   "source": [
    "model.fit(training, output, n_epoch=1000, batch_size=8, show_metric=True)\n",
    "model.save(\"model.tflearn\")"
   ]
  },
  {
   "cell_type": "code",
   "execution_count": 3,
   "metadata": {},
   "outputs": [
    {
     "name": "stderr",
     "output_type": "stream",
     "text": [
      "W0222 09:19:34.831903   760 deprecation.py:323] From C:\\Users\\ningesh\\Anaconda3\\envs\\project\\lib\\site-packages\\tensorflow\\python\\training\\saver.py:1276: checkpoint_exists (from tensorflow.python.training.checkpoint_management) is deprecated and will be removed in a future version.\n",
      "Instructions for updating:\n",
      "Use standard file APIs to check for files with this prefix.\n"
     ]
    }
   ],
   "source": [
    "import nltk\n",
    "from nltk.stem.lancaster import LancasterStemmer\n",
    "stemmer = LancasterStemmer()\n",
    "\n",
    "import numpy\n",
    "import tflearn\n",
    "import tensorflow\n",
    "import random\n",
    "import json\n",
    "import pickle\n",
    "\n",
    "#with open(\"qasystem.json\",encoding=\"utf8\") as file:\n",
    "#    data = json.load(file)\n",
    "    \n",
    "with open(\"qasystem.json\",encoding=\"utf8\") as file:\n",
    "    data = json.load(file)    \n",
    "\n",
    "try:\n",
    "    with open(\"data.pickle\", \"rb\") as f:\n",
    "        words, labels, training, output = pickle.load(f)\n",
    "except:\n",
    "    words = []\n",
    "    labels = []\n",
    "    docs_x = []\n",
    "    docs_y = []\n",
    "\n",
    "    for intent in data[\"intents\"]:\n",
    "        for pattern in intent[\"patterns\"]:\n",
    "            wrds = nltk.word_tokenize(pattern)\n",
    "            words.extend(wrds)\n",
    "            docs_x.append(wrds)\n",
    "            #print(wrds)\n",
    "            docs_y.append(intent[\"tag\"])\n",
    "\n",
    "        if intent[\"tag\"] not in labels:\n",
    "            labels.append(intent[\"tag\"])\n",
    "\n",
    "    words = [stemmer.stem(w.lower()) for w in words if w != \"?\"]\n",
    "    words = sorted(list(set(words)))\n",
    "\n",
    "    labels = sorted(labels)\n",
    "\n",
    "    training = []\n",
    "    output = []\n",
    "\n",
    "    out_empty = [0 for _ in range(len(labels))]\n",
    "\n",
    "    for x, doc in enumerate(docs_x):\n",
    "        bag = []\n",
    "\n",
    "        wrds = [stemmer.stem(w.lower()) for w in doc]\n",
    "\n",
    "        for w in words:\n",
    "            if w in wrds:\n",
    "                bag.append(1)\n",
    "            else:\n",
    "                bag.append(0)\n",
    "\n",
    "        output_row = out_empty[:]\n",
    "        output_row[labels.index(docs_y[x])] = 1\n",
    "\n",
    "        training.append(bag)\n",
    "        output.append(output_row)\n",
    "\n",
    "\n",
    "    training = numpy.array(training)\n",
    "    output = numpy.array(output)\n",
    "\n",
    "    with open(\"data.pickle\", \"wb\") as f:\n",
    "        pickle.dump((words, labels, training, output), f)\n",
    "\n",
    "tensorflow.reset_default_graph()\n",
    "\n",
    "net = tflearn.input_data(shape=[None, len(training[0])])\n",
    "net = tflearn.fully_connected(net, 8)\n",
    "net = tflearn.fully_connected(net, 8)\n",
    "net = tflearn.fully_connected(net, len(output[0]), activation=\"softmax\")\n",
    "net = tflearn.regression(net)\n",
    "\n",
    "model11 = tflearn.DNN(net)\n",
    "\n",
    "try:\n",
    "    model11.load(\"model.tflearn\")\n",
    "except:\n",
    "    model11.fit(training, output, n_epoch=1000, batch_size=8, show_metric=True)\n",
    "    model11.save(\"model.tflearn\")"
   ]
  },
  {
   "cell_type": "code",
   "execution_count": 4,
   "metadata": {},
   "outputs": [
    {
     "name": "stdout",
     "output_type": "stream",
     "text": [
      " * Serving Flask app \"__main__\" (lazy loading)\n",
      " * Environment: production\n",
      "   WARNING: This is a development server. Do not use it in a production deployment.\n",
      "   Use a production WSGI server instead.\n",
      " * Debug mode: off\n"
     ]
    },
    {
     "name": "stderr",
     "output_type": "stream",
     "text": [
      "I0222 09:19:38.117301   760 _internal.py:122]  * Running on http://0.0.0.0:5000/ (Press CTRL+C to quit)\n",
      "I0222 09:19:40.547294  3128 _internal.py:122] 127.0.0.1 - - [22/Feb/2020 09:19:40] \"\u001b[37mGET / HTTP/1.1\u001b[0m\" 200 -\n",
      "I0222 09:19:40.738557  1960 _internal.py:122] 127.0.0.1 - - [22/Feb/2020 09:19:40] \"\u001b[37mGET /static/css/blog.css HTTP/1.1\u001b[0m\" 200 -\n",
      "I0222 09:19:40.752548 12752 _internal.py:122] 127.0.0.1 - - [22/Feb/2020 09:19:40] \"\u001b[37mGET /static/css/bootstrap.min.css HTTP/1.1\u001b[0m\" 200 -\n",
      "I0222 09:19:40.892196  7576 _internal.py:122] 127.0.0.1 - - [22/Feb/2020 09:19:40] \"\u001b[37mGET / HTTP/1.1\u001b[0m\" 200 -\n",
      "I0222 09:19:41.014081  8724 _internal.py:122] 127.0.0.1 - - [22/Feb/2020 09:19:41] \"\u001b[37mGET /static/css/font-awesome.min.css HTTP/1.1\u001b[0m\" 200 -\n",
      "I0222 09:19:41.014081  1212 _internal.py:122] 127.0.0.1 - - [22/Feb/2020 09:19:41] \"\u001b[37mGET /static/css/timeline.css HTTP/1.1\u001b[0m\" 200 -\n",
      "I0222 09:19:41.162872  5800 _internal.py:122] 127.0.0.1 - - [22/Feb/2020 09:19:41] \"\u001b[37mGET /static/js/SmoothScroll.min.js HTTP/1.1\u001b[0m\" 200 -\n",
      "I0222 09:19:41.167868 11848 _internal.py:122] 127.0.0.1 - - [22/Feb/2020 09:19:41] \"\u001b[37mGET /static/js/jquery-2.2.3.min.js HTTP/1.1\u001b[0m\" 200 -\n",
      "I0222 09:19:41.194853  2800 _internal.py:122] 127.0.0.1 - - [22/Feb/2020 09:19:41] \"\u001b[37mGET /static/js/bootstrap.min.js HTTP/1.1\u001b[0m\" 200 -\n",
      "I0222 09:19:41.258818 11744 _internal.py:122] 127.0.0.1 - - [22/Feb/2020 09:19:41] \"\u001b[37mGET /static/css/style.css HTTP/1.1\u001b[0m\" 200 -\n",
      "I0222 09:19:41.474571 11408 _internal.py:122] 127.0.0.1 - - [22/Feb/2020 09:19:41] \"\u001b[37mGET /static/images/bg.jpg HTTP/1.1\u001b[0m\" 200 -\n",
      "I0222 09:19:41.483554 11440 _internal.py:122] 127.0.0.1 - - [22/Feb/2020 09:19:41] \"\u001b[37mGET /static/images/banner.png HTTP/1.1\u001b[0m\" 200 -\n",
      "I0222 09:19:41.636879  6260 _internal.py:122] 127.0.0.1 - - [22/Feb/2020 09:19:41] \"\u001b[37mGET /static/js/move-top.js HTTP/1.1\u001b[0m\" 200 -\n",
      "I0222 09:19:41.658866 11284 _internal.py:122] 127.0.0.1 - - [22/Feb/2020 09:19:41] \"\u001b[37mGET /static/js/easing.js HTTP/1.1\u001b[0m\" 200 -\n",
      "I0222 09:19:42.016764  1892 _internal.py:122] 127.0.0.1 - - [22/Feb/2020 09:19:42] \"\u001b[37mGET /static/images/move-top.png HTTP/1.1\u001b[0m\" 200 -\n",
      "I0222 09:19:42.250664  9092 _internal.py:122] 127.0.0.1 - - [22/Feb/2020 09:19:42] \"\u001b[33mGET /favicon.ico HTTP/1.1\u001b[0m\" 404 -\n",
      "I0222 09:21:24.543275  2520 _internal.py:122] 127.0.0.1 - - [22/Feb/2020 09:21:24] \"\u001b[37mGET /static/images/g6.jpg HTTP/1.1\u001b[0m\" 200 -\n",
      "I0222 09:21:54.635576  5800 _internal.py:122] 127.0.0.1 - - [22/Feb/2020 09:21:54] \"\u001b[33mPOST /register HTTP/1.1\u001b[0m\" 404 -\n"
     ]
    }
   ],
   "source": [
    "from flask import Flask, render_template, request\n",
    "import nltk\n",
    "from nltk.stem.lancaster import LancasterStemmer\n",
    "stemmer = LancasterStemmer()\n",
    "\n",
    "import numpy\n",
    "import tflearn\n",
    "import tensorflow\n",
    "import random\n",
    "import json\n",
    "\n",
    "app = Flask(__name__)\n",
    "def bag_of_words(s, words):\n",
    "    bag = [0 for _ in range(len(words))]\n",
    "\n",
    "    s_words = nltk.word_tokenize(s)\n",
    "    s_words = [stemmer.stem(word.lower()) for word in s_words]\n",
    "\n",
    "    for se in s_words:\n",
    "        for i, w in enumerate(words):\n",
    "            if w == se:\n",
    "                bag[i] = 1\n",
    "            \n",
    "    return numpy.array(bag)\n",
    "model11.load(\"model.tflearn\")\n",
    "@app.route(\"/\")\n",
    "def home():\n",
    "    return render_template(\"index.html\")\n",
    "\n",
    "@app.route(\"/get\")\n",
    "def get_bot_response():\n",
    "    userText = request.args.get('msg')\n",
    "    results = model11.predict([bag_of_words(userText, words)])\n",
    "    results_index = numpy.argmax(results)\n",
    "    tag = labels[results_index]\n",
    "    outdatagot=\"\"\n",
    "    for tg in data[\"intents\"]:\n",
    "        if tg['tag'] == tag:\n",
    "            responses = tg['responses']\n",
    "            outdatagot=random.choice(responses)\n",
    "            print(outdatagot)\n",
    "    return str(outdatagot)\n",
    "\n",
    "\n",
    "if __name__ == \"__main__\":\n",
    "    app.run('0.0.0.0')"
   ]
  },
  {
   "cell_type": "code",
   "execution_count": null,
   "metadata": {},
   "outputs": [],
   "source": []
  }
 ],
 "metadata": {
  "kernelspec": {
   "display_name": "Python 3",
   "language": "python",
   "name": "python3"
  },
  "language_info": {
   "codemirror_mode": {
    "name": "ipython",
    "version": 3
   },
   "file_extension": ".py",
   "mimetype": "text/x-python",
   "name": "python",
   "nbconvert_exporter": "python",
   "pygments_lexer": "ipython3",
   "version": "3.7.3"
  }
 },
 "nbformat": 4,
 "nbformat_minor": 2
}
